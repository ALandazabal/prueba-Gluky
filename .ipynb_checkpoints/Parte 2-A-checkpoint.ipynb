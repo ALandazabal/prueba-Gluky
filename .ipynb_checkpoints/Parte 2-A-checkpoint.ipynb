{
 "cells": [
  {
   "cell_type": "code",
   "execution_count": 11,
   "metadata": {},
   "outputs": [],
   "source": [
    "import matplotlib.pyplot as plt\n",
    "import numpy as np"
   ]
  },
  {
   "cell_type": "code",
   "execution_count": 13,
   "metadata": {},
   "outputs": [],
   "source": [
    "import mysql.connector\n",
    "from mysql.connector import Error\n",
    "\n",
    "try:\n",
    "    connection = mysql.connector.connect(host='localhost',\n",
    "                                         database='part2gluky',\n",
    "                                         user='root',\n",
    "                                         password='')\n",
    "\n",
    "except Error as e:\n",
    "    print(\"Error while connecting to MySQL\", e)"
   ]
  },
  {
   "cell_type": "markdown",
   "metadata": {},
   "source": [
    "## Total de ventas por Estado Civil"
   ]
  },
  {
   "cell_type": "code",
   "execution_count": 30,
   "metadata": {},
   "outputs": [
    {
     "name": "stdout",
     "output_type": "stream",
     "text": [
      "Total number of rows is:  4\n",
      "\n",
      "Printing each record\n",
      "Estado civil \t Ventas \n",
      "\n",
      "CASADO \t 255552387017\n",
      "\n",
      "SOLTERO \t 2000203019380\n",
      "\n",
      "UNIONLIBRE \t 81324360264\n",
      "\n",
      "VIUDO \t 114856430465\n",
      "\n"
     ]
    }
   ],
   "source": [
    "sql_select_Query = \"SELECT estado_civil, SUM(compras_acumuladas) as Ventas FROM data_cliente GROUP BY estado_civil\"\n",
    "cursor = connection.cursor()\n",
    "cursor.execute(sql_select_Query)\n",
    "records = cursor.fetchall()\n",
    "print(\"Total number of rows is: \", cursor.rowcount)\n",
    "\n",
    "print(\"\\nPrinting each record\")\n",
    "print(f'Estado civil \\t Ventas \\n')\n",
    "arrx = []\n",
    "arry = []\n",
    "for row in records:\n",
    "    print(f'{row[0]} \\t {row[1]}\\n')\n",
    "    arrx.append(row[0])\n",
    "    arry.append(int(row[1]))"
   ]
  },
  {
   "cell_type": "code",
   "execution_count": 33,
   "metadata": {},
   "outputs": [
    {
     "data": {
      "text/plain": [
       "<BarContainer object of 4 artists>"
      ]
     },
     "execution_count": 33,
     "metadata": {},
     "output_type": "execute_result"
    },
    {
     "data": {
      "image/png": "[encoded data removed]",
      "text/plain": [
       "<Figure size 432x288 with 1 Axes>"
      ]
     },
     "metadata": {
      "needs_background": "light"
     },
     "output_type": "display_data"
    }
   ],
   "source": [
    "plt.bar(arrx, arry, color='g', align ='center')"
   ]
  },
  {
   "cell_type": "markdown",
   "metadata": {},
   "source": [
    "## Número de usuarios por sexo"
   ]
  },
  {
   "cell_type": "code",
   "execution_count": 34,
   "metadata": {},
   "outputs": [
    {
     "name": "stdout",
     "output_type": "stream",
     "text": [
      "Total number of rows is:  2\n",
      "\n",
      "Printing each record\n",
      "Sexo \t Total \n",
      "\n",
      "FEMENINO \t 3473\n",
      "\n",
      "MASCULINO \t 1358\n",
      "\n"
     ]
    }
   ],
   "source": [
    "sql_select_Query = \"SELECT sexo, COUNT(*) as Total FROM data_cliente GROUP BY sexo\"\n",
    "cursor = connection.cursor()\n",
    "cursor.execute(sql_select_Query)\n",
    "records = cursor.fetchall()\n",
    "print(\"Total number of rows is: \", cursor.rowcount)\n",
    "\n",
    "print(\"\\nPrinting each record\")\n",
    "print(f'Sexo \\t Total \\n')\n",
    "arrx = []\n",
    "arry = []\n",
    "for row in records:\n",
    "    print(f'{row[0]} \\t {row[1]}\\n')\n",
    "    arrx.append(row[0])\n",
    "    arry.append(int(row[1]))"
   ]
  },
  {
   "cell_type": "code",
   "execution_count": 35,
   "metadata": {},
   "outputs": [
    {
     "data": {
      "image/png": "[encoded data removed]",
      "text/plain": [
       "<Figure size 432x288 with 1 Axes>"
      ]
     },
     "metadata": {},
     "output_type": "display_data"
    }
   ],
   "source": [
    "plt.pie(arry, labels=arrx)\n",
    "plt.show()"
   ]
  },
  {
   "cell_type": "markdown",
   "metadata": {},
   "source": [
    "## Total de ventas geográficamente"
   ]
  },
  {
   "cell_type": "code",
   "execution_count": 39,
   "metadata": {},
   "outputs": [
    {
     "name": "stdout",
     "output_type": "stream",
     "text": [
      "Total number of rows is:  4\n",
      "\n",
      "Ubicación \t Total \n",
      "\n",
      "Este \t 318420691145\n",
      "\n",
      "Norte \t 286789617258\n",
      "\n",
      "Oeste \t 1194018173307\n",
      "\n",
      "Sur \t 652707715416\n",
      "\n"
     ]
    }
   ],
   "source": [
    "sql_select_Query = \"SELECT ubicacion, SUM(compras_acumuladas) as Total FROM data_cliente GROUP BY ubicacion\"\n",
    "cursor = connection.cursor()\n",
    "cursor.execute(sql_select_Query)\n",
    "records = cursor.fetchall()\n",
    "print(\"Total number of rows is: \", cursor.rowcount)\n",
    "\n",
    "print(f'\\nUbicación \\t Total \\n')\n",
    "arrx = []\n",
    "arry = []\n",
    "for row in records:\n",
    "    print(f'{row[0]} \\t {row[1]}\\n')\n",
    "    arrx.append(row[0])\n",
    "    arry.append(int(row[1]))"
   ]
  },
  {
   "cell_type": "code",
   "execution_count": 41,
   "metadata": {},
   "outputs": [
    {
     "data": {
      "image/png": "[encoded data removed]",
      "text/plain": [
       "<Figure size 432x288 with 1 Axes>"
      ]
     },
     "metadata": {
      "needs_background": "light"
     },
     "output_type": "display_data"
    }
   ],
   "source": [
    "plt.plot(arrx, arry) \n",
    "plt.xlabel('Ubicación') \n",
    "plt.ylabel('Ventas') \n",
    "plt.title('Ventas por ubicación') \n",
    "plt.show() "
   ]
  },
  {
   "cell_type": "markdown",
   "metadata": {},
   "source": [
    "## Cantidad de hombres solteros por ubicación"
   ]
  },
  {
   "cell_type": "code",
   "execution_count": 52,
   "metadata": {},
   "outputs": [
    {
     "name": "stdout",
     "output_type": "stream",
     "text": [
      "Total number of rows is:  2\n",
      "\n",
      "Estado Civil \t Ubicación \t Sexo \t Total \n",
      "\n",
      "SOLTERO \t Este \t MASCULINO \t 85\n",
      "\n",
      "SOLTERO \t Oeste \t MASCULINO \t 1273\n",
      "\n"
     ]
    }
   ],
   "source": [
    "sql_select_Query = \"SELECT `estado_civil`,`ubicacion`, `sexo`, COUNT(*) FROM `data_cliente` GROUP By `estado_civil`,`ubicacion`, `sexo` HAVING estado_civil = 'SOLTERO' AND sexo = 'MASCULINO'\"\n",
    "cursor = connection.cursor()\n",
    "cursor.execute(sql_select_Query)\n",
    "records = cursor.fetchall()\n",
    "print(\"Total number of rows is: \", cursor.rowcount)\n",
    "\n",
    "print(f'\\nEstado Civil \\t Ubicación \\t Sexo \\t Total \\n')\n",
    "arrx = []\n",
    "arry = []\n",
    "for row in records:\n",
    "    print(f'{row[0]} \\t {row[1]} \\t {row[2]} \\t {row[3]}\\n')\n",
    "    arrx.append(row[1])\n",
    "    arry.append(row[3])"
   ]
  },
  {
   "cell_type": "code",
   "execution_count": 53,
   "metadata": {},
   "outputs": [
    {
     "data": {
      "image/png": "[encoded data removed]",
      "text/plain": [
       "<Figure size 432x288 with 1 Axes>"
      ]
     },
     "metadata": {},
     "output_type": "display_data"
    }
   ],
   "source": [
    "plt.pie(arry, labels=arrx)\n",
    "plt.show()"
   ]
  },
  {
   "cell_type": "markdown",
   "metadata": {},
   "source": [
    "## Promedio de ventas acumuladas por mes en la ubicación Norte"
   ]
  },
  {
   "cell_type": "code",
   "execution_count": 49,
   "metadata": {},
   "outputs": [
    {
     "name": "stdout",
     "output_type": "stream",
     "text": [
      "Total number of rows is:  10\n",
      "\n",
      "Ub. \t Meses \t Promedio \n",
      "\n",
      "Norte \t 0 \t 453172850.7500\n",
      "\n",
      "Norte \t 1 \t 493597195.2500\n",
      "\n",
      "Norte \t 2 \t 456671646.3649\n",
      "\n",
      "Norte \t 3 \t 648300054.6719\n",
      "\n",
      "Norte \t 4 \t 617201508.3143\n",
      "\n",
      "Norte \t 5 \t 589935055.3594\n",
      "\n",
      "Norte \t 6 \t 760464133.8718\n",
      "\n",
      "Norte \t 7 \t 707045651.9286\n",
      "\n",
      "Norte \t 8 \t 575285534.0909\n",
      "\n",
      "Norte \t 9 \t 865425536.7273\n",
      "\n"
     ]
    }
   ],
   "source": [
    "sql_select_Query = \"SELECT ubicacion, meses, AVG(compras_acumuladas) FROM `data_cliente` GROUP By ubicacion, meses HAVING ubicacion = 'Norte'\"\n",
    "cursor = connection.cursor()\n",
    "cursor.execute(sql_select_Query)\n",
    "records = cursor.fetchall()\n",
    "print(\"Total number of rows is: \", cursor.rowcount)\n",
    "\n",
    "print(f'\\nUb. \\t Meses \\t Promedio \\n')\n",
    "arrx = []\n",
    "arry = []\n",
    "for row in records:\n",
    "    print(f'{row[0]} \\t {row[1]} \\t {row[2]}\\n')\n",
    "    arrx.append(row[1])\n",
    "    arry.append(row[2])"
   ]
  },
  {
   "cell_type": "code",
   "execution_count": 50,
   "metadata": {},
   "outputs": [
    {
     "data": {
      "text/plain": [
       "<BarContainer object of 10 artists>"
      ]
     },
     "execution_count": 50,
     "metadata": {},
     "output_type": "execute_result"
    },
    {
     "data": {
      "image/png": "[encoded data removed]",
      "text/plain": [
       "<Figure size 432x288 with 1 Axes>"
      ]
     },
     "metadata": {
      "needs_background": "light"
     },
     "output_type": "display_data"
    }
   ],
   "source": [
    "plt.bar(arrx, arry)"
   ]
  },
  {
   "cell_type": "markdown",
   "metadata": {},
   "source": [
    "## Total de ventas acumuladas mayores a 200000000000 por mujeres por mes"
   ]
  },
  {
   "cell_type": "code",
   "execution_count": 57,
   "metadata": {},
   "outputs": [
    {
     "name": "stdout",
     "output_type": "stream",
     "text": [
      "Total number of rows is:  5\n",
      "\n",
      "Sexo    \t Meses \t Total Ventas \n",
      "\n",
      "FEMENINO \t 2 \t 219610138575\n",
      "\n",
      "FEMENINO \t 3 \t 251876415071\n",
      "\n",
      "FEMENINO \t 4 \t 257243679394\n",
      "\n",
      "FEMENINO \t 5 \t 255866208189\n",
      "\n",
      "FEMENINO \t 6 \t 250160959367\n",
      "\n"
     ]
    }
   ],
   "source": [
    "sql_select_Query = \"SELECT sexo, meses, SUM(compras_acumuladas) AS ventas FROM `data_cliente` GROUP BY sexo, meses HAVING sexo = 'FEMENINO' AND ventas > 200000000000\"\n",
    "cursor = connection.cursor()\n",
    "cursor.execute(sql_select_Query)\n",
    "records = cursor.fetchall()\n",
    "print(\"Total number of rows is: \", cursor.rowcount)\n",
    "\n",
    "print(f'\\nSexo    \\t Meses \\t Total Ventas \\n')\n",
    "arrx = []\n",
    "arry = []\n",
    "for row in records:\n",
    "    print(f'{row[0]} \\t {row[1]} \\t {row[2]}\\n')\n",
    "    arrx.append(row[1])\n",
    "    arry.append(row[2])"
   ]
  },
  {
   "cell_type": "markdown",
   "metadata": {},
   "source": [
    "## Estado civil de los clientes con las mayores compras acumuladas"
   ]
  },
  {
   "cell_type": "code",
   "execution_count": 60,
   "metadata": {},
   "outputs": [
    {
     "name": "stdout",
     "output_type": "stream",
     "text": [
      "Total number of rows is:  3\n",
      "\n",
      "Estado C. \t Compra acumulada \n",
      "\n",
      "CASADO   \t 2147483647 \n",
      "\n",
      "SOLTERO   \t 2147483647 \n",
      "\n",
      "VIUDO   \t 2147483647 \n",
      "\n"
     ]
    }
   ],
   "source": [
    "sql_select_Query = \"SELECT estado_civil, compras_acumuladas FROM `data_cliente` WHERE compras_acumuladas = ( SELECT MAX(compras_acumuladas) FROM data_cliente ) GROUP BY estado_civil, compras_acumuladas\"\n",
    "cursor = connection.cursor()\n",
    "cursor.execute(sql_select_Query)\n",
    "records = cursor.fetchall()\n",
    "print(\"Total number of rows is: \", cursor.rowcount)\n",
    "\n",
    "print(f'\\nEstado C. \\t Compra acumulada \\n')\n",
    "arrx = []\n",
    "arry = []\n",
    "for row in records:\n",
    "    print(f'{row[0]}   \\t {row[1]} \\n')\n",
    "    arrx.append(row[0])\n",
    "    arry.append(row[1])"
   ]
  },
  {
   "cell_type": "markdown",
   "metadata": {},
   "source": [
    "## Cantidad de clientes por ubicación cuyas compras sean menor al promedio del total de compras"
   ]
  },
  {
   "cell_type": "code",
   "execution_count": 64,
   "metadata": {},
   "outputs": [
    {
     "name": "stdout",
     "output_type": "stream",
     "text": [
      "Total number of rows is:  4\n",
      "\n",
      "Ubic.   \t Total Clientes \n",
      "\n",
      "Este      \t 486 \n",
      "\n",
      "Norte      \t 261 \n",
      "\n",
      "Oeste      \t 1816 \n",
      "\n",
      "Sur      \t 544 \n",
      "\n"
     ]
    }
   ],
   "source": [
    "sql_select_Query = \"SELECT ubicacion, COUNT(*) FROM `data_cliente` WHERE compras_acumuladas < ( SELECT AVG(compras_acumuladas) FROM data_cliente ) GROUP BY ubicacion\"\n",
    "cursor = connection.cursor()\n",
    "cursor.execute(sql_select_Query)\n",
    "records = cursor.fetchall()\n",
    "print(\"Total number of rows is: \", cursor.rowcount)\n",
    "\n",
    "print(f'\\nUbic.   \\t Total Clientes \\n')\n",
    "arrx = []\n",
    "arry = []\n",
    "for row in records:\n",
    "    print(f'{row[0]}      \\t {row[1]} \\n')\n",
    "    arrx.append(row[0])\n",
    "    arry.append(row[1])"
   ]
  },
  {
   "cell_type": "code",
   "execution_count": 9,
   "metadata": {},
   "outputs": [
    {
     "name": "stdout",
     "output_type": "stream",
     "text": [
      "MySQL connection is closed\n"
     ]
    }
   ],
   "source": [
    "if (connection.is_connected()):\n",
    "        cursor.close()\n",
    "        connection.close()\n",
    "        print(\"MySQL connection is closed\")"
   ]
  },
  {
   "cell_type": "code",
   "execution_count": null,
   "metadata": {},
   "outputs": [],
   "source": []
  }
 ],
 "metadata": {
  "kernelspec": {
   "display_name": "Python 3",
   "language": "python",
   "name": "python3"
  },
  "language_info": {
   "codemirror_mode": {
    "name": "ipython",
    "version": 3
   },
   "file_extension": ".py",
   "mimetype": "text/x-python",
   "name": "python",
   "nbconvert_exporter": "python",
   "pygments_lexer": "ipython3",
   "version": "3.7.4"
  }
 },
 "nbformat": 4,
 "nbformat_minor": 2
}
