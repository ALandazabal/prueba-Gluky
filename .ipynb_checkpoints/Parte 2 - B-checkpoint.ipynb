{
 "cells": [
  {
   "cell_type": "code",
   "execution_count": 8,
   "metadata": {},
   "outputs": [],
   "source": [
    "import pandas as pd\n",
    "%matplotlib inline\n",
    "import plotnine as p9"
   ]
  },
  {
   "cell_type": "code",
   "execution_count": 2,
   "metadata": {},
   "outputs": [
    {
     "data": {
      "text/html": [
       "<div>\n",
       "<style scoped>\n",
       "    .dataframe tbody tr th:only-of-type {\n",
       "        vertical-align: middle;\n",
       "    }\n",
       "\n",
       "    .dataframe tbody tr th {\n",
       "        vertical-align: top;\n",
       "    }\n",
       "\n",
       "    .dataframe thead th {\n",
       "        text-align: right;\n",
       "    }\n",
       "</style>\n",
       "<table border=\"1\" class=\"dataframe\">\n",
       "  <thead>\n",
       "    <tr style=\"text-align: right;\">\n",
       "      <th></th>\n",
       "      <th>ID</th>\n",
       "      <th>COMPRAS ACUMULADAS</th>\n",
       "      <th>MESES CUMPLIENDO VENTAS</th>\n",
       "      <th>ESTADO CIVIL</th>\n",
       "      <th>SEXO</th>\n",
       "      <th>Ubicación geográfica</th>\n",
       "    </tr>\n",
       "  </thead>\n",
       "  <tbody>\n",
       "    <tr>\n",
       "      <td>0</td>\n",
       "      <td>1</td>\n",
       "      <td>339443200</td>\n",
       "      <td>4</td>\n",
       "      <td>CASADO</td>\n",
       "      <td>FEMENINO</td>\n",
       "      <td>Norte</td>\n",
       "    </tr>\n",
       "    <tr>\n",
       "      <td>1</td>\n",
       "      <td>2</td>\n",
       "      <td>442399900</td>\n",
       "      <td>9</td>\n",
       "      <td>SOLTERO</td>\n",
       "      <td>FEMENINO</td>\n",
       "      <td>Oeste</td>\n",
       "    </tr>\n",
       "    <tr>\n",
       "      <td>2</td>\n",
       "      <td>3</td>\n",
       "      <td>525814450</td>\n",
       "      <td>5</td>\n",
       "      <td>SOLTERO</td>\n",
       "      <td>FEMENINO</td>\n",
       "      <td>Oeste</td>\n",
       "    </tr>\n",
       "    <tr>\n",
       "      <td>3</td>\n",
       "      <td>4</td>\n",
       "      <td>409658600</td>\n",
       "      <td>4</td>\n",
       "      <td>SOLTERO</td>\n",
       "      <td>FEMENINO</td>\n",
       "      <td>Oeste</td>\n",
       "    </tr>\n",
       "    <tr>\n",
       "      <td>4</td>\n",
       "      <td>5</td>\n",
       "      <td>203823900</td>\n",
       "      <td>2</td>\n",
       "      <td>SOLTERO</td>\n",
       "      <td>FEMENINO</td>\n",
       "      <td>Oeste</td>\n",
       "    </tr>\n",
       "  </tbody>\n",
       "</table>\n",
       "</div>"
      ],
      "text/plain": [
       "   ID  COMPRAS ACUMULADAS  MESES CUMPLIENDO VENTAS ESTADO CIVIL      SEXO  \\\n",
       "0   1           339443200                        4       CASADO  FEMENINO   \n",
       "1   2           442399900                        9      SOLTERO  FEMENINO   \n",
       "2   3           525814450                        5      SOLTERO  FEMENINO   \n",
       "3   4           409658600                        4      SOLTERO  FEMENINO   \n",
       "4   5           203823900                        2      SOLTERO  FEMENINO   \n",
       "\n",
       "  Ubicación geográfica  \n",
       "0                Norte  \n",
       "1                Oeste  \n",
       "2                Oeste  \n",
       "3                Oeste  \n",
       "4                Oeste  "
      ]
     },
     "execution_count": 2,
     "metadata": {},
     "output_type": "execute_result"
    }
   ],
   "source": [
    "datos_excel = pd.read_excel(open('BASE DE DATOS 2 CASO.xlsx','rb'))\n",
    "datos_excel = pd.DataFrame(datos_excel)\n",
    "datos_excel.head()"
   ]
  },
  {
   "cell_type": "markdown",
   "metadata": {},
   "source": [
    "•\tSeleccionar variables para realizar un proceso de segmentación o clusterización:\n",
    "    Sexo, Ubicación geográfica y compras acumuladas"
   ]
  },
  {
   "cell_type": "markdown",
   "metadata": {},
   "source": [
    "•\t¿Por qué escogiste estas variables?: Para conocer qué población entre hombres y mujeres realizan más compras y en qué ubicación es más concurrido dichas compras."
   ]
  },
  {
   "cell_type": "code",
   "execution_count": 4,
   "metadata": {},
   "outputs": [
    {
     "data": {
      "text/html": [
       "<div>\n",
       "<style scoped>\n",
       "    .dataframe tbody tr th:only-of-type {\n",
       "        vertical-align: middle;\n",
       "    }\n",
       "\n",
       "    .dataframe tbody tr th {\n",
       "        vertical-align: top;\n",
       "    }\n",
       "\n",
       "    .dataframe thead th {\n",
       "        text-align: right;\n",
       "    }\n",
       "</style>\n",
       "<table border=\"1\" class=\"dataframe\">\n",
       "  <thead>\n",
       "    <tr style=\"text-align: right;\">\n",
       "      <th>Ubicación geográfica</th>\n",
       "      <th>Este</th>\n",
       "      <th>Norte</th>\n",
       "      <th>Oeste</th>\n",
       "      <th>Sur</th>\n",
       "      <th>All</th>\n",
       "    </tr>\n",
       "    <tr>\n",
       "      <th>SEXO</th>\n",
       "      <th></th>\n",
       "      <th></th>\n",
       "      <th></th>\n",
       "      <th></th>\n",
       "      <th></th>\n",
       "    </tr>\n",
       "  </thead>\n",
       "  <tbody>\n",
       "    <tr>\n",
       "      <td>FEMENINO</td>\n",
       "      <td>607</td>\n",
       "      <td>487</td>\n",
       "      <td>1297</td>\n",
       "      <td>1082</td>\n",
       "      <td>3473</td>\n",
       "    </tr>\n",
       "    <tr>\n",
       "      <td>MASCULINO</td>\n",
       "      <td>85</td>\n",
       "      <td>0</td>\n",
       "      <td>1273</td>\n",
       "      <td>0</td>\n",
       "      <td>1358</td>\n",
       "    </tr>\n",
       "    <tr>\n",
       "      <td>All</td>\n",
       "      <td>692</td>\n",
       "      <td>487</td>\n",
       "      <td>2570</td>\n",
       "      <td>1082</td>\n",
       "      <td>4831</td>\n",
       "    </tr>\n",
       "  </tbody>\n",
       "</table>\n",
       "</div>"
      ],
      "text/plain": [
       "Ubicación geográfica  Este  Norte  Oeste   Sur   All\n",
       "SEXO                                                \n",
       "FEMENINO               607    487   1297  1082  3473\n",
       "MASCULINO               85      0   1273     0  1358\n",
       "All                    692    487   2570  1082  4831"
      ]
     },
     "execution_count": 4,
     "metadata": {},
     "output_type": "execute_result"
    }
   ],
   "source": [
    "#Tabla de contingencia\n",
    "pd.crosstab(index=datos_excel['SEXO'],\n",
    "            columns=datos_excel['Ubicación geográfica'], margins=True)"
   ]
  },
  {
   "cell_type": "code",
   "execution_count": 6,
   "metadata": {},
   "outputs": [
    {
     "data": {
      "text/plain": [
       "<matplotlib.axes._subplots.AxesSubplot at 0x22cbb0ac088>"
      ]
     },
     "execution_count": 6,
     "metadata": {},
     "output_type": "execute_result"
    },
    {
     "data": {
      "image/png": "[encoded data removed]",
      "text/plain": [
       "<Figure size 432x288 with 1 Axes>"
      ]
     },
     "metadata": {
      "needs_background": "light"
     },
     "output_type": "display_data"
    }
   ],
   "source": [
    "# Gráfico de barras\n",
    "plot = pd.crosstab(index=datos_excel['SEXO'],\n",
    "            columns=datos_excel['Ubicación geográfica']).apply(lambda r: r/r.sum() *100,\n",
    "                                              axis=1).plot(kind='bar')\n",
    "plot"
   ]
  },
  {
   "cell_type": "code",
   "execution_count": 13,
   "metadata": {},
   "outputs": [
    {
     "data": {
      "image/png": "[encoded data removed]",
      "text/plain": [
       "<Figure size 640x480 with 1 Axes>"
      ]
     },
     "metadata": {},
     "output_type": "display_data"
    },
    {
     "data": {
      "text/plain": [
       "<ggplot: (-9223371887404529048)>"
      ]
     },
     "execution_count": 13,
     "metadata": {},
     "output_type": "execute_result"
    }
   ],
   "source": [
    "#Gráfico con ggplot y geometría de punto\n",
    "(p9.ggplot(data=datos_excel,\n",
    "           mapping=p9.aes(x='Ubicación geográfica',\n",
    "                          y='COMPRAS ACUMULADAS',\n",
    "                          color='SEXO'))\n",
    "    + p9.geom_point(alpha=1)\n",
    ")"
   ]
  },
  {
   "cell_type": "code",
   "execution_count": null,
   "metadata": {},
   "outputs": [],
   "source": []
  }
 ],
 "metadata": {
  "kernelspec": {
   "display_name": "Python 3",
   "language": "python",
   "name": "python3"
  },
  "language_info": {
   "codemirror_mode": {
    "name": "ipython",
    "version": 3
   },
   "file_extension": ".py",
   "mimetype": "text/x-python",
   "name": "python",
   "nbconvert_exporter": "python",
   "pygments_lexer": "ipython3",
   "version": "3.7.4"
  }
 },
 "nbformat": 4,
 "nbformat_minor": 2
}
